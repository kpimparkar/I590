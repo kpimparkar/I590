{
 "cells": [
  {
   "cell_type": "markdown",
   "metadata": {},
   "source": [
    "## <center>CODE PORTFOLIO : Data Import in Python </center>\n",
    "- **Table of content**  \n",
    "\n",
    "    [1) Read .csv using pandas                   ](#1\\)-Read-.csv-using-pandas)  \n",
    "    [2) Read .csv using csv module               ](#2\\)-Read-.csv-using-csv-module)  \n",
    "    [3) Read excel                               ](#3\\)-Read-excel)  \n",
    "    [4) Read delimited file                      ](#4\\)-Read-delimited-file)  \n",
    "    [5) Read specific rows/columns from input csv](#5\\)-Read-specific-rows/columns-from-input-csv)  \n",
    "    [6) Read Json file using json module         ](#6\\)-Read-Json-file-using-json-module)  \n",
    "    [7) Read Json file using pandas              ](#7\\)-Read-Json-file-using-pandas)  \n",
    "      \n",
    "  \n",
    "- **References**\n",
    "     - Pandas documentation\n",
    "     - Various online tutorials"
   ]
  },
  {
   "cell_type": "code",
   "execution_count": 1,
   "metadata": {},
   "outputs": [],
   "source": [
    "# Importing required python libraries\n",
    "## pandas - for data import as data wrangling\n",
    "## csv    - to access data of a .csv file\n",
    "## os     - for os utulities such as getcwd(), chdir() etc\n",
    "## json   - to access json files\n",
    "\n",
    "import pandas as pd \n",
    "import csv\n",
    "import os\n",
    "import json"
   ]
  },
  {
   "cell_type": "code",
   "execution_count": 2,
   "metadata": {},
   "outputs": [],
   "source": [
    "## Defining workspace and input files\n",
    "\n",
    "cwd = os.getcwd()\n",
    "os.chdir(r'C:\\Study\\IUMSDS\\Spring2019\\Applied DS\\data')\n",
    "\n",
    "ip_csv   = 'farmers-markets.csv'\n",
    "ip_excel = 'Farmers_market.xlsx'\n",
    "ip_delim = 'income.txt'\n",
    "ip_json  = 'Alphavantage_Json.txt'"
   ]
  },
  {
   "cell_type": "markdown",
   "metadata": {},
   "source": [
    "### 1) Read .csv using pandas"
   ]
  },
  {
   "cell_type": "code",
   "execution_count": 3,
   "metadata": {
    "scrolled": true
   },
   "outputs": [
    {
     "name": "stdout",
     "output_type": "stream",
     "text": [
      "Loaded the .csv into a dataframe of (8665, 61) dimension.\n"
     ]
    }
   ],
   "source": [
    "# Using pd.read_csv() to read the .csv file and load it a pandas data frame\n",
    "\n",
    "## encoding='unicode_escape' used as the input file has some special characters.\n",
    "## header=None : if there is no header in the input file\n",
    "## names=['col1','col2','col3'] : to have header in the data frame if header=None\n",
    "\n",
    "## Reference : https://pandas.pydata.org/pandas-docs/stable/reference/api/pandas.read_csv.html\n",
    "\n",
    "df = pd.read_csv(ip_csv, encoding='unicode_escape')\n",
    "\n",
    "print(f'Loaded the .csv into a dataframe of {df.shape} dimension.')"
   ]
  },
  {
   "cell_type": "markdown",
   "metadata": {},
   "source": [
    "### 2) Read .csv using csv module "
   ]
  },
  {
   "cell_type": "code",
   "execution_count": 4,
   "metadata": {
    "scrolled": false
   },
   "outputs": [
    {
     "name": "stdout",
     "output_type": "stream",
     "text": [
      "['1012063', ' Caledonia Farmers Market Association - Danville', 'https://sites.google.com/site/caledoniafarmersmarket/', 'https://www.facebook.com/Danville.VT.Farmers.Market/', '', '', '', '', 'Danville ', 'DANVILLE', 'Caledonia', 'Caledonia', 'Vermont', '5828', '06/08/2016 to 10/12/2016', 'Wed: 9:00 AM-1:00 PM;', '', '', '', '', '', '', '-72.140305', '44.411013', '', 'Y', 'Y', 'N', 'Y', 'N', 'Y', 'Y', 'Y', 'Y', 'Y', 'Y', 'N', 'Y', 'Y', 'Y', 'Y', 'Y', 'Y', 'N', 'N', 'Y', 'Y', 'Y', 'Y', 'Y', 'N', 'Y', 'Y', 'Y', 'N', 'Y', 'N', 'Y', 'N', 'N', '6/28/16 12:10']\n"
     ]
    }
   ],
   "source": [
    "## csv reader object is required to read .csv using csv module\n",
    "\n",
    "try:\n",
    "    with open(ip_csv,'r') as csv_obj:\n",
    "        csv_reader=csv.reader(csv_obj,delimiter=',')\n",
    "        next(csv_obj)                                   ##This skips one line so the header is skipped with this code\n",
    "        for i in csv_reader:\n",
    "            print(i)\n",
    "            break                                       ##Stopping the loop after reading first record\n",
    "except Exception as e:\n",
    "    print(\"Error occurred : {}\".format(e))\n",
    "    "
   ]
  },
  {
   "cell_type": "markdown",
   "metadata": {},
   "source": [
    "### 3) Read excel"
   ]
  },
  {
   "cell_type": "code",
   "execution_count": 5,
   "metadata": {
    "scrolled": false
   },
   "outputs": [
    {
     "name": "stdout",
     "output_type": "stream",
     "text": [
      "Loaded the .csv into a dataframe of (8665, 61) dimension.\n"
     ]
    }
   ],
   "source": [
    "## Using pd.read_excel() to read a sheet from an excel file and load it a pandas data frame\n",
    "\n",
    "## Reference : https://pandas.pydata.org/pandas-docs/stable/reference/api/pandas.read_excel.html#pandas.read_excel\n",
    "\n",
    "df = pd.read_excel(ip_excel, sheet_name='Sheet2')\n",
    "print(f'Loaded the .csv into a dataframe of {df.shape} dimension.')"
   ]
  },
  {
   "cell_type": "markdown",
   "metadata": {},
   "source": [
    "### 4) Read delimited file "
   ]
  },
  {
   "cell_type": "code",
   "execution_count": 6,
   "metadata": {
    "scrolled": true
   },
   "outputs": [
    {
     "name": "stdout",
     "output_type": "stream",
     "text": [
      "Loaded the .csv into a dataframe of (4, 8) dimension.\n"
     ]
    }
   ],
   "source": [
    "## Using pd.read_csv to read a flat file with delimiter\n",
    "## Note : pd.read_table() is depricated \n",
    "\n",
    "## Reference : https://pandas.pydata.org/pandas-docs/stable/reference/api/pandas.read_csv.html#pandas.read_csv\n",
    "\n",
    "df = pd.read_csv(ip_delim, sep='|')\n",
    "\n",
    "print(f'Loaded the .csv into a dataframe of {df.shape} dimension.')"
   ]
  },
  {
   "cell_type": "markdown",
   "metadata": {},
   "source": [
    "### 5) Read specific rows/columns from input csv"
   ]
  },
  {
   "cell_type": "code",
   "execution_count": 7,
   "metadata": {
    "scrolled": false
   },
   "outputs": [
    {
     "name": "stdout",
     "output_type": "stream",
     "text": [
      "Loaded the .csv into a dataframe of (5, 61) dimension.\n",
      "Loaded the .csv into a dataframe of (8665, 3) dimension.\n",
      "Loaded the .csv into a dataframe of (8660, 61) dimension.\n"
     ]
    }
   ],
   "source": [
    "# Using pd.read_csv() with following arguments to read specific rows/columns only\n",
    "\n",
    "## nrows = 5          : to read only first 5 rows\n",
    "## usecols = (1,4,7)  : to read rows at index 1,4, and 7 only\n",
    "## skiprows = 5       : to skip 5 rows\n",
    "\n",
    "df = pd.read_csv(ip_csv, encoding='unicode_escape', nrows=5)\n",
    "print(f'Loaded the .csv into a dataframe of {df.shape} dimension.')\n",
    "\n",
    "df = pd.read_csv(ip_csv, encoding='unicode_escape', usecols = (1,4,7))\n",
    "print(f'Loaded the .csv into a dataframe of {df.shape} dimension.')\n",
    "\n",
    "df = pd.read_csv(ip_csv, encoding='unicode_escape', skiprows = 5 )\n",
    "print(f'Loaded the .csv into a dataframe of {df.shape} dimension.')\n"
   ]
  },
  {
   "cell_type": "markdown",
   "metadata": {},
   "source": [
    "### 6) Read Json file using json module"
   ]
  },
  {
   "cell_type": "code",
   "execution_count": 8,
   "metadata": {
    "scrolled": true
   },
   "outputs": [
    {
     "name": "stdout",
     "output_type": "stream",
     "text": [
      "type json_info:  <class 'dict'> Length 2\n",
      "type json_info[\"Meta Data\"]:  <class 'dict'> len :  5\n",
      "\n",
      "===================================\n",
      "\n",
      "type json_info[\"Time Series (Daily)\"] <class 'dict'> len :  100\n",
      "MSFT\n",
      "{'1. open': '108.4900', '2. high': '108.9850', '3. low': '106.8200', '4. close': '107.6600', '5. volume': '29947318'}\n",
      "{\n",
      "  \"1. open\": \"108.4900\",\n",
      "  \"2. high\": \"108.9850\",\n",
      "  \"3. low\": \"106.8200\",\n",
      "  \"4. close\": \"107.6600\",\n",
      "  \"5. volume\": \"29947318\"\n",
      "}\n"
     ]
    }
   ],
   "source": [
    "## JSON = JavaScript Object Notation\n",
    "## JSON FUNCTIONS:\n",
    "#### json.loads(<json formatted string>) => To load a json string and convert it in python objects\n",
    "#### json.dumps(<json formatted string>, indent=2, sort_keys=True) => To dump a json string in a variable\n",
    "    \n",
    "#### json.load(<json file>)=> To load a json file and convert it in python objects\n",
    "\n",
    "\n",
    "with open(ip_json,'r') as json_data:\n",
    "    data=json_data.read()\n",
    "    #print(data)\n",
    "    json_info = json.loads(data)  ##json.loads converts the json data in python objects and loads it in json_info\n",
    "    print('type json_info: ' , type(json_info), 'Length', len(json_info))\n",
    "    print('type json_info[\"Meta Data\"]: ' ,type(json_info[\"Meta Data\"]), 'len : ', len(json_info[\"Meta Data\"]))\n",
    "    print('\\n===================================\\n')\n",
    "    \n",
    "    print('type json_info[\"Time Series (Daily)\"]', type(json_info['Time Series (Daily)']), 'len : ', len(json_info['Time Series (Daily)']))\n",
    "    print(json_info['Meta Data']['2. Symbol'])\n",
    "    print(json_info[\"Time Series (Daily)\"][\"2018-08-15\"])\n",
    "    ## json.dumps() dumps the data in the variable and indent indents the data\n",
    "    todays_numbers=json.dumps(json_info[\"Time Series (Daily)\"][\"2018-08-15\"], indent=2)\n",
    "    print(todays_numbers)"
   ]
  },
  {
   "cell_type": "markdown",
   "metadata": {},
   "source": [
    "### 7) Read Json file using pandas"
   ]
  },
  {
   "cell_type": "code",
   "execution_count": 9,
   "metadata": {},
   "outputs": [
    {
     "name": "stdout",
     "output_type": "stream",
     "text": [
      "Loaded the .csv into a dataframe of (105, 2) dimension.\n"
     ]
    }
   ],
   "source": [
    "## Using pd.read_json() to load json file in a data frame\n",
    "\n",
    "## Reference : https://pandas.pydata.org/pandas-docs/stable/reference/api/pandas.read_json.html#pandas.read_json\n",
    "\n",
    "df = pd.read_json(ip_json)\n",
    "print(f'Loaded the .csv into a dataframe of {df.shape} dimension.')"
   ]
  }
 ],
 "metadata": {
  "kernelspec": {
   "display_name": "Python 3",
   "language": "python",
   "name": "python3"
  },
  "language_info": {
   "codemirror_mode": {
    "name": "ipython",
    "version": 3
   },
   "file_extension": ".py",
   "mimetype": "text/x-python",
   "name": "python",
   "nbconvert_exporter": "python",
   "pygments_lexer": "ipython3",
   "version": "3.6.4"
  }
 },
 "nbformat": 4,
 "nbformat_minor": 2
}
